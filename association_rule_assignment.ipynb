{
  "nbformat": 4,
  "nbformat_minor": 0,
  "metadata": {
    "colab": {
      "name": "association rule assignment.ipynb",
      "provenance": [],
      "collapsed_sections": []
    },
    "kernelspec": {
      "display_name": "R",
      "name": "ir"
    },
    "language_info": {
      "name": "R"
    }
  },
  "cells": [
    {
      "cell_type": "markdown",
      "metadata": {
        "id": "9_21OA8JxRJb"
      },
      "source": [
        "# ***Part A*** "
      ]
    },
    {
      "cell_type": "markdown",
      "metadata": {
        "id": "kbh-SnuZZUR9"
      },
      "source": [
        "II. A store is interested in determining the associations between items purchased from its Departments. The store chose to conduct a market basket analysis of specific items purchased to analyze customer’s buying behavior. You are hereby provided with a file ‘transactions.csv’ containing information for transactions made over the past 3 months.\n",
        "  - a) Generate a plot of the top 10 transactions\n",
        "  - b) Generate association rules using minimum support of 0.002, minimum confidence of 0.20, and maximum length of 3. Display the rules, sorted by descending lift value.\n",
        "\n",
        "  - c) Select the rule from QII-b with the greatest lift. Compare this rule with the highest lift rule for maximum length of 2.\n",
        "    - i) Which rule has the better lift?\n",
        "    - ii) Which rule has the greater support?\n",
        "    - iii) If you were a marketing manager, and could fund only one of these rules, which would it be, and why?"
      ]
    },
    {
      "cell_type": "code",
      "metadata": {
        "id": "ohj3y79mZTmt"
      },
      "source": [
        ""
      ],
      "execution_count": 1,
      "outputs": []
    },
    {
      "cell_type": "code",
      "metadata": {
        "colab": {
          "base_uri": "https://localhost:8080/"
        },
        "id": "OJr2dge9T_qV",
        "outputId": "8a7cc036-316b-4a3c-9a6c-a413fd6d0f0e"
      },
      "source": [
        "# load the grocery data into a sparse matrix\n",
        "install.packages(\"arules\")\n",
        "install.packages(\"arulesViz\")\n",
        "library(arules)\n",
        "library(arulesViz)"
      ],
      "execution_count": 2,
      "outputs": [
        {
          "output_type": "stream",
          "name": "stderr",
          "text": [
            "Installing package into ‘/usr/local/lib/R/site-library’\n",
            "(as ‘lib’ is unspecified)\n",
            "\n",
            "Installing package into ‘/usr/local/lib/R/site-library’\n",
            "(as ‘lib’ is unspecified)\n",
            "\n",
            "also installing the dependencies ‘iterators’, ‘coda’, ‘foreach’, ‘zoo’, ‘statnet.common’, ‘later’, ‘TSP’, ‘qap’, ‘gclus’, ‘registry’, ‘lmtest’, ‘ggrepel’, ‘network’, ‘sna’, ‘htmlwidgets’, ‘crosstalk’, ‘promises’, ‘lazyeval’, ‘seriation’, ‘vcd’, ‘igraph’, ‘scatterplot3d’, ‘ggnetwork’, ‘DT’, ‘plotly’, ‘visNetwork’\n",
            "\n",
            "\n",
            "Loading required package: Matrix\n",
            "\n",
            "\n",
            "Attaching package: ‘arules’\n",
            "\n",
            "\n",
            "The following objects are masked from ‘package:base’:\n",
            "\n",
            "    abbreviate, write\n",
            "\n",
            "\n"
          ]
        }
      ]
    },
    {
      "cell_type": "code",
      "metadata": {
        "id": "0nlu5-titEoC"
      },
      "source": [
        "load_google_drive_data <- function(google_file_url){\n",
        "    g_link = google_file_url \n",
        "    file_id = substr(g_link, regexpr(\"/d/\", g_link) + 3 ,  regexpr(\"/view\", g_link) -1 )\n",
        "    url =  paste(\"https://drive.google.com/uc?export=download&id=\", file_id, sep=\"\")\n",
        "    download.file(url, \"file.csv\")\n",
        "    df <- read.csv(\"file.csv\" , stringsAsFactors = TRUE)\n",
        "    \n",
        "    return(df)\n",
        "}"
      ],
      "execution_count": 3,
      "outputs": []
    },
    {
      "cell_type": "code",
      "metadata": {
        "id": "Ano6zAk0uWyU"
      },
      "source": [
        "transaction_data <- load_google_drive_data(\"https://drive.google.com/file/d/1KvbTInxZr5hs7oawB9cONGpora8hRezo/view?usp=sharing\" )\n"
      ],
      "execution_count": 4,
      "outputs": []
    },
    {
      "cell_type": "code",
      "metadata": {
        "colab": {
          "base_uri": "https://localhost:8080/"
        },
        "id": "ZsWOoxLUV0W0",
        "outputId": "340e9181-dfa7-4a29-e3ed-c949569f45d6"
      },
      "source": [
        "trans <- read.transactions(\"/content/file.csv\",  format = \"basket\", \n",
        "                 header = FALSE, sep = \",\", \n",
        "                  cols = NULL, rm.duplicates = FALSE, \n",
        "                  quote = \"\\\"'\", skip = 0, \n",
        "                  encoding = \"unknown\") "
      ],
      "execution_count": 5,
      "outputs": [
        {
          "output_type": "stream",
          "name": "stderr",
          "text": [
            "Warning message in asMethod(object):\n",
            "“removing duplicated items in transactions”\n"
          ]
        }
      ]
    },
    {
      "cell_type": "code",
      "metadata": {
        "colab": {
          "base_uri": "https://localhost:8080/",
          "height": 532
        },
        "id": "s7bOYRaaYqyk",
        "outputId": "6c204a24-1d62-44a2-cf53-4296912b6910"
      },
      "source": [
        "summary(trans)"
      ],
      "execution_count": 6,
      "outputs": [
        {
          "output_type": "display_data",
          "data": {
            "text/plain": [
              "transactions as itemMatrix in sparse format with\n",
              " 7501 rows (elements/itemsets/transactions) and\n",
              " 119 columns (items) and a density of 0.03288973 \n",
              "\n",
              "most frequent items:\n",
              "mineral water          eggs     spaghetti  french fries     chocolate \n",
              "         1788          1348          1306          1282          1229 \n",
              "      (Other) \n",
              "        22405 \n",
              "\n",
              "element (itemset/transaction) length distribution:\n",
              "sizes\n",
              "   1    2    3    4    5    6    7    8    9   10   11   12   13   14   15   16 \n",
              "1754 1358 1044  816  667  493  391  324  259  139  102   67   40   22   17    4 \n",
              "  18   19   20 \n",
              "   1    2    1 \n",
              "\n",
              "   Min. 1st Qu.  Median    Mean 3rd Qu.    Max. \n",
              "  1.000   2.000   3.000   3.914   5.000  20.000 \n",
              "\n",
              "includes extended item information - examples:\n",
              "             labels\n",
              "1           almonds\n",
              "2 antioxydant juice\n",
              "3         asparagus"
            ]
          },
          "metadata": {}
        }
      ]
    },
    {
      "cell_type": "code",
      "metadata": {
        "colab": {
          "base_uri": "https://localhost:8080/"
        },
        "id": "IT5OA0yXadz8",
        "outputId": "b5c2a281-02ab-4ca9-ade5-a57c0e43ea6f"
      },
      "source": [
        "inspect(trans[1:5])"
      ],
      "execution_count": 7,
      "outputs": [
        {
          "output_type": "stream",
          "name": "stdout",
          "text": [
            "    items               \n",
            "[1] {almonds,           \n",
            "     antioxydant juice, \n",
            "     avocado,           \n",
            "     cottage cheese,    \n",
            "     energy drink,      \n",
            "     frozen smoothie,   \n",
            "     green grapes,      \n",
            "     green tea,         \n",
            "     honey,             \n",
            "     low fat yogurt,    \n",
            "     mineral water,     \n",
            "     olive oil,         \n",
            "     salad,             \n",
            "     salmon,            \n",
            "     shrimp,            \n",
            "     spinach,           \n",
            "     tomato juice,      \n",
            "     vegetables mix,    \n",
            "     whole weat flour,  \n",
            "     yams}              \n",
            "[2] {burgers,           \n",
            "     eggs,              \n",
            "     meatballs}         \n",
            "[3] {chutney}           \n",
            "[4] {avocado,           \n",
            "     turkey}            \n",
            "[5] {energy bar,        \n",
            "     green tea,         \n",
            "     milk,              \n",
            "     mineral water,     \n",
            "     whole wheat rice}  \n"
          ]
        }
      ]
    },
    {
      "cell_type": "markdown",
      "metadata": {
        "id": "azww4lEYZ9Q8"
      },
      "source": [
        "## **a) Generate a plot of the top 10 transactions**"
      ]
    },
    {
      "cell_type": "code",
      "metadata": {
        "colab": {
          "base_uri": "https://localhost:8080/",
          "height": 437
        },
        "id": "7frHKtQ8YrPU",
        "outputId": "8d707b49-93e6-4eb9-f1d6-71de306ca19a"
      },
      "source": [
        "itemFrequencyPlot(trans, topN = 10)"
      ],
      "execution_count": 8,
      "outputs": [
        {
          "output_type": "display_data",
          "data": {
            "image/png": "[encoded data removed]",
            "text/plain": [
              "plot without title"
            ]
          },
          "metadata": {
            "image/png": {
              "width": 420,
              "height": 420
            }
          }
        }
      ]
    },
    {
      "cell_type": "markdown",
      "metadata": {
        "id": "nTZQ2hM5bqDs"
      },
      "source": [
        "### **b) Generate association rules using minimum support of 0.002, minimum confidence of 0.20, and maximum length of 3. Display the rules, sorted by descending lift value.**"
      ]
    },
    {
      "cell_type": "code",
      "metadata": {
        "colab": {
          "base_uri": "https://localhost:8080/"
        },
        "id": "p2ZKD1rsbLgf",
        "outputId": "5f9f5ba4-e66a-4ee6-894d-d39e60c3dc1a"
      },
      "source": [
        "trans_assoc <- apriori(trans, parameter = list(support = 0.002, confidence =0.20, maxlen = 3))"
      ],
      "execution_count": 9,
      "outputs": [
        {
          "output_type": "stream",
          "name": "stdout",
          "text": [
            "Apriori\n",
            "\n",
            "Parameter specification:\n",
            " confidence minval smax arem  aval originalSupport maxtime support minlen\n",
            "        0.2    0.1    1 none FALSE            TRUE       5   0.002      1\n",
            " maxlen target  ext\n",
            "      3  rules TRUE\n",
            "\n",
            "Algorithmic control:\n",
            " filter tree heap memopt load sort verbose\n",
            "    0.1 TRUE TRUE  FALSE TRUE    2    TRUE\n",
            "\n",
            "Absolute minimum support count: 15 \n",
            "\n",
            "set item appearances ...[0 item(s)] done [0.00s].\n",
            "set transactions ...[119 item(s), 7501 transaction(s)] done [0.00s].\n",
            "sorting and recoding items ... [115 item(s)] done [0.00s].\n",
            "creating transaction tree ... done [0.00s].\n",
            "checking subsets of size 1 2 3"
          ]
        },
        {
          "output_type": "stream",
          "name": "stderr",
          "text": [
            "Warning message in apriori(trans, parameter = list(support = 0.002, confidence = 0.2, :\n",
            "“Mining stopped (maxlen reached). Only patterns up to a length of 3 returned!”\n"
          ]
        },
        {
          "output_type": "stream",
          "name": "stdout",
          "text": [
            " done [0.01s].\n",
            "writing ... [2023 rule(s)] done [0.00s].\n",
            "creating S4 object  ... done [0.00s].\n"
          ]
        }
      ]
    },
    {
      "cell_type": "code",
      "metadata": {
        "colab": {
          "base_uri": "https://localhost:8080/"
        },
        "id": "jDIeScCRgTK0",
        "outputId": "fb0868be-463d-4e9e-8ef0-bb14ebe26663"
      },
      "source": [
        "# sorting trans rules by lift to determine actionable rules\n",
        "print(trans_assoc)\n",
        "inspect(sort(trans_assoc, by = \"lift\"  , decreasing = TRUE)[1:5])\n",
        "\n"
      ],
      "execution_count": 10,
      "outputs": [
        {
          "output_type": "stream",
          "name": "stdout",
          "text": [
            "set of 2023 rules \n",
            "    lhs                                   rhs                    support    \n",
            "[1] {escalope, mushroom cream sauce}   => {pasta}                0.002532996\n",
            "[2] {escalope, pasta}                  => {mushroom cream sauce} 0.002532996\n",
            "[3] {mushroom cream sauce, pasta}      => {escalope}             0.002532996\n",
            "[4] {parmesan cheese, tomatoes}        => {frozen vegetables}    0.002133049\n",
            "[5] {mineral water, whole wheat pasta} => {olive oil}            0.003866151\n",
            "    confidence coverage    lift      count\n",
            "[1] 0.4418605  0.005732569 28.088096 19   \n",
            "[2] 0.4318182  0.005865885 22.650826 19   \n",
            "[3] 0.9500000  0.002666311 11.976387 19   \n",
            "[4] 0.6666667  0.003199573  6.993939 16   \n",
            "[5] 0.4027778  0.009598720  6.115863 29   \n"
          ]
        }
      ]
    },
    {
      "cell_type": "markdown",
      "metadata": {
        "id": "NSqXU_sohxfE"
      },
      "source": [
        "## c) Select the rule from QII-b with the greatest lift. Compare this rule with the highest lift rule for maximum length of 2.\n",
        "  - i) Which rule has the better lift?\n",
        "  - ii) Which rule has the greater support?\n",
        "  - iii) If you were a marketing manager, and could fund only one of these rules, which would it be, and why? "
      ]
    },
    {
      "cell_type": "code",
      "metadata": {
        "colab": {
          "base_uri": "https://localhost:8080/"
        },
        "id": "rALh-UJughBT",
        "outputId": "85a09423-1bf1-493a-d1e0-7d009393eba1"
      },
      "source": [
        "trans_assoc <- apriori(trans, parameter = list(support =\n",
        "                                                      0.002, confidence =0.20, maxlen = 2))\n",
        "\n"
      ],
      "execution_count": 11,
      "outputs": [
        {
          "output_type": "stream",
          "name": "stdout",
          "text": [
            "Apriori\n",
            "\n",
            "Parameter specification:\n",
            " confidence minval smax arem  aval originalSupport maxtime support minlen\n",
            "        0.2    0.1    1 none FALSE            TRUE       5   0.002      1\n",
            " maxlen target  ext\n",
            "      2  rules TRUE\n",
            "\n",
            "Algorithmic control:\n",
            " filter tree heap memopt load sort verbose\n",
            "    0.1 TRUE TRUE  FALSE TRUE    2    TRUE\n",
            "\n",
            "Absolute minimum support count: 15 \n",
            "\n",
            "set item appearances ...[0 item(s)] done [0.00s].\n",
            "set transactions ...[119 item(s), 7501 transaction(s)] done [0.00s].\n",
            "sorting and recoding items ... [115 item(s)] done [0.00s].\n",
            "creating transaction tree ... done [0.00s].\n",
            "checking subsets of size 1 2"
          ]
        },
        {
          "output_type": "stream",
          "name": "stderr",
          "text": [
            "Warning message in apriori(trans, parameter = list(support = 0.002, confidence = 0.2, :\n",
            "“Mining stopped (maxlen reached). Only patterns up to a length of 2 returned!”\n"
          ]
        },
        {
          "output_type": "stream",
          "name": "stdout",
          "text": [
            " done [0.00s].\n",
            "writing ... [358 rule(s)] done [0.00s].\n",
            "creating S4 object  ... done [0.00s].\n"
          ]
        }
      ]
    },
    {
      "cell_type": "code",
      "metadata": {
        "colab": {
          "base_uri": "https://localhost:8080/"
        },
        "id": "6Gw8Jz05mN9O",
        "outputId": "4b73108b-d996-4904-b777-6f906c6a90e9"
      },
      "source": [
        "# sorting trans rules by lift to determine actionable rules\n",
        "inspect(sort(trans_assoc, by = \"lift\"  , decreasing = TRUE)[1:5])"
      ],
      "execution_count": 12,
      "outputs": [
        {
          "output_type": "stream",
          "name": "stdout",
          "text": [
            "    lhs                    rhs         support     confidence coverage  \n",
            "[1] {fromage blanc}     => {honey}     0.003332889 0.2450980  0.01359819\n",
            "[2] {light cream}       => {chicken}   0.004532729 0.2905983  0.01559792\n",
            "[3] {pasta}             => {escalope}  0.005865885 0.3728814  0.01573124\n",
            "[4] {pasta}             => {shrimp}    0.005065991 0.3220339  0.01573124\n",
            "[5] {whole wheat pasta} => {olive oil} 0.007998933 0.2714932  0.02946274\n",
            "    lift     count\n",
            "[1] 5.164271 25   \n",
            "[2] 4.843951 34   \n",
            "[3] 4.700812 44   \n",
            "[4] 4.506672 38   \n",
            "[5] 4.122410 60   \n"
          ]
        }
      ]
    },
    {
      "cell_type": "markdown",
      "metadata": {
        "id": "7pIzLyIpm6nT"
      },
      "source": [
        "### **for maximum lenght of 3  we get rule**\n",
        " - **{escalope,mushroom cream sauce}   -->  {pasta}** \n",
        "   -  with support = 0.002532996, lift = 28.088096 , confidence = 0.4418605\n",
        "\n",
        "### **for maximum lenght of 2  we get rule** \n",
        " - **{fromage blanc}     => {honey}** \n",
        "     - with support =  0.003332889  , lift = 5.164271 , confidence = 0.2450980"
      ]
    },
    {
      "cell_type": "markdown",
      "metadata": {
        "id": "paQQC9VJtwUb"
      },
      "source": [
        " - **The Rule That has the better lift is     {escalope,mushroom cream sauce} -->  {pasta}      with  28.088**\n",
        "\n",
        " - **The Rule That has the greatest support  is     {fromage blanc} -->   {honey} with     0.0033**"
      ]
    },
    {
      "cell_type": "markdown",
      "metadata": {
        "id": "82NlR6ZnEMjY"
      },
      "source": [
        "### iii) If you were a marketing manager, and could fund only one of these rules, which would it be, and why? \n",
        "\n",
        "**as I Found that the difference in support between two rules is small  while there is a big difference between lift of two rules which indicate that the relationship between  escalope ,mushroom cream sauce and pasta is very interesting and if escalope and mushroom cream sauce are bought then pasta is likely to be bought as well with high confidence**"
      ]
    },
    {
      "cell_type": "markdown",
      "metadata": {
        "id": "7ryYC_foxYYC"
      },
      "source": [
        "# **Part B: Course Recommender System using Collaborative Filtering**"
      ]
    },
    {
      "cell_type": "markdown",
      "metadata": {
        "id": "bo4lmlz1wfG6"
      },
      "source": [
        "### **3 - Use R to compute the cosine similarity between users.**\n"
      ]
    },
    {
      "cell_type": "code",
      "metadata": {
        "id": "TskBfd4fvlbK",
        "colab": {
          "base_uri": "https://localhost:8080/"
        },
        "outputId": "80784804-a831-459c-e6a8-1c37f9f45b16"
      },
      "source": [
        "#take a look at the movie names that correspond to these number\n",
        "install.packages(\"dplyr\")\n",
        "library(dplyr)\n",
        "install.packages(\"recommenderlab\", dependencies=TRUE)\n",
        "library(recommenderlab)\n",
        "\n"
      ],
      "execution_count": 13,
      "outputs": [
        {
          "output_type": "stream",
          "name": "stderr",
          "text": [
            "Installing package into ‘/usr/local/lib/R/site-library’\n",
            "(as ‘lib’ is unspecified)\n",
            "\n",
            "\n",
            "Attaching package: ‘dplyr’\n",
            "\n",
            "\n",
            "The following objects are masked from ‘package:arules’:\n",
            "\n",
            "    intersect, recode, setdiff, setequal, union\n",
            "\n",
            "\n",
            "The following objects are masked from ‘package:stats’:\n",
            "\n",
            "    filter, lag\n",
            "\n",
            "\n",
            "The following objects are masked from ‘package:base’:\n",
            "\n",
            "    intersect, setdiff, setequal, union\n",
            "\n",
            "\n",
            "Installing package into ‘/usr/local/lib/R/site-library’\n",
            "(as ‘lib’ is unspecified)\n",
            "\n",
            "also installing the dependencies ‘bitops’, ‘gtools’, ‘caTools’, ‘float’, ‘RcppProgress’, ‘gplots’, ‘proxy’, ‘irlba’, ‘recosystem’, ‘ROCR’\n",
            "\n",
            "\n",
            "Loading required package: proxy\n",
            "\n",
            "\n",
            "Attaching package: ‘proxy’\n",
            "\n",
            "\n",
            "The following object is masked from ‘package:Matrix’:\n",
            "\n",
            "    as.matrix\n",
            "\n",
            "\n",
            "The following objects are masked from ‘package:stats’:\n",
            "\n",
            "    as.dist, dist\n",
            "\n",
            "\n",
            "The following object is masked from ‘package:base’:\n",
            "\n",
            "    as.matrix\n",
            "\n",
            "\n",
            "Loading required package: registry\n",
            "\n",
            "Registered S3 methods overwritten by 'registry':\n",
            "  method               from \n",
            "  print.registry_field proxy\n",
            "  print.registry_entry proxy\n",
            "\n"
          ]
        }
      ]
    },
    {
      "cell_type": "code",
      "metadata": {
        "id": "N7CFREYjmtxA",
        "colab": {
          "base_uri": "https://localhost:8080/",
          "height": 417
        },
        "outputId": "17920e24-a3e9-4b35-f056-2c61cffe74e8"
      },
      "source": [
        "studentid <- c('LN','MH','JH','EN','DU','FL','GL', 'AH' ,'SA','RW','BA','MG','AF','KG','DS')\n",
        "SQL <- c(4,3,2,4,4 ,NA,NA,NA,NA,NA,NA,NA,NA,NA,4)\n",
        "Spatial <- c(NA ,4,2 ,NA ,4,4,4,3,NA,NA,NA,NA,NA,NA,NA)\n",
        "PA1 <- c(NA,NA,NA,NA,NA,NA,NA,NA, 4,2,4,4,4,3,NA)\n",
        "DM_IN_R <- c(NA,NA,NA ,4,NA,NA,NA,NA,NA,NA,NA,NA,NA,NA,2)\n",
        "PYTHON <- c(3,4,NA,NA,NA,NA,NA,NA,NA,NA,NA,NA,NA,NA,NA)\n",
        "FORCAST <- c(2 ,NA,NA,NA,NA,NA,NA,NA,NA,NA,NA,4,NA,NA,NA)\n",
        "R_PROG <- c(4 ,NA,NA ,4 ,NA,NA,NA,NA,NA,NA,NA,NA,NA,NA,4)\n",
        "HADOOP <- c(NA,NA,NA,NA,NA,NA,NA,NA,NA,4, NA,NA ,NA,NA,NA)\n",
        "REGRESSION <- c(2 ,NA,NA,3,NA,NA,NA,NA,NA,NA,NA,NA,NA,NA ,NA)\n",
        "STAT_COURSE <- data.frame(studentid,SQL,Spatial,\n",
        "                          PA1,DM_IN_R,PYTHON,FORCAST,\n",
        "                          R_PROG,HADOOP,REGRESSION)\n",
        "STAT_COURSE[is.na(STAT_COURSE)] <- 0\n",
        "# first remember the names\n",
        "n <- STAT_COURSE$studentid\n",
        "\n",
        "# transpose all but the first column (name)\n",
        "Courses <- as.data.frame(t(STAT_COURSE[,-1]))\n",
        "colnames(Courses) <- n\n",
        "Courses"
      ],
      "execution_count": 15,
      "outputs": [
        {
          "output_type": "display_data",
          "data": {
            "text/plain": [
              "           LN MH JH EN DU FL GL AH SA RW BA MG AF KG DS\n",
              "SQL        4  3  2  4  4  0  0  0  0  0  0  0  0  0  4 \n",
              "Spatial    0  4  2  0  4  4  4  3  0  0  0  0  0  0  0 \n",
              "PA1        0  0  0  0  0  0  0  0  4  2  4  4  4  3  0 \n",
              "DM_IN_R    0  0  0  4  0  0  0  0  0  0  0  0  0  0  2 \n",
              "PYTHON     3  4  0  0  0  0  0  0  0  0  0  0  0  0  0 \n",
              "FORCAST    2  0  0  0  0  0  0  0  0  0  0  4  0  0  0 \n",
              "R_PROG     4  0  0  4  0  0  0  0  0  0  0  0  0  0  4 \n",
              "HADOOP     0  0  0  0  0  0  0  0  0  4  0  0  0  0  0 \n",
              "REGRESSION 2  0  0  3  0  0  0  0  0  0  0  0  0  0  0 "
            ],
            "text/latex": "A data.frame: 9 × 15\n\\begin{tabular}{r|lllllllllllllll}\n  & LN & MH & JH & EN & DU & FL & GL & AH & SA & RW & BA & MG & AF & KG & DS\\\\\n  & <dbl> & <dbl> & <dbl> & <dbl> & <dbl> & <dbl> & <dbl> & <dbl> & <dbl> & <dbl> & <dbl> & <dbl> & <dbl> & <dbl> & <dbl>\\\\\n\\hline\n\tSQL & 4 & 3 & 2 & 4 & 4 & 0 & 0 & 0 & 0 & 0 & 0 & 0 & 0 & 0 & 4\\\\\n\tSpatial & 0 & 4 & 2 & 0 & 4 & 4 & 4 & 3 & 0 & 0 & 0 & 0 & 0 & 0 & 0\\\\\n\tPA1 & 0 & 0 & 0 & 0 & 0 & 0 & 0 & 0 & 4 & 2 & 4 & 4 & 4 & 3 & 0\\\\\n\tDM\\_IN\\_R & 0 & 0 & 0 & 4 & 0 & 0 & 0 & 0 & 0 & 0 & 0 & 0 & 0 & 0 & 2\\\\\n\tPYTHON & 3 & 4 & 0 & 0 & 0 & 0 & 0 & 0 & 0 & 0 & 0 & 0 & 0 & 0 & 0\\\\\n\tFORCAST & 2 & 0 & 0 & 0 & 0 & 0 & 0 & 0 & 0 & 0 & 0 & 4 & 0 & 0 & 0\\\\\n\tR\\_PROG & 4 & 0 & 0 & 4 & 0 & 0 & 0 & 0 & 0 & 0 & 0 & 0 & 0 & 0 & 4\\\\\n\tHADOOP & 0 & 0 & 0 & 0 & 0 & 0 & 0 & 0 & 0 & 4 & 0 & 0 & 0 & 0 & 0\\\\\n\tREGRESSION & 2 & 0 & 0 & 3 & 0 & 0 & 0 & 0 & 0 & 0 & 0 & 0 & 0 & 0 & 0\\\\\n\\end{tabular}\n",
            "text/markdown": "\nA data.frame: 9 × 15\n\n| <!--/--> | LN &lt;dbl&gt; | MH &lt;dbl&gt; | JH &lt;dbl&gt; | EN &lt;dbl&gt; | DU &lt;dbl&gt; | FL &lt;dbl&gt; | GL &lt;dbl&gt; | AH &lt;dbl&gt; | SA &lt;dbl&gt; | RW &lt;dbl&gt; | BA &lt;dbl&gt; | MG &lt;dbl&gt; | AF &lt;dbl&gt; | KG &lt;dbl&gt; | DS &lt;dbl&gt; |\n|---|---|---|---|---|---|---|---|---|---|---|---|---|---|---|---|\n| SQL | 4 | 3 | 2 | 4 | 4 | 0 | 0 | 0 | 0 | 0 | 0 | 0 | 0 | 0 | 4 |\n| Spatial | 0 | 4 | 2 | 0 | 4 | 4 | 4 | 3 | 0 | 0 | 0 | 0 | 0 | 0 | 0 |\n| PA1 | 0 | 0 | 0 | 0 | 0 | 0 | 0 | 0 | 4 | 2 | 4 | 4 | 4 | 3 | 0 |\n| DM_IN_R | 0 | 0 | 0 | 4 | 0 | 0 | 0 | 0 | 0 | 0 | 0 | 0 | 0 | 0 | 2 |\n| PYTHON | 3 | 4 | 0 | 0 | 0 | 0 | 0 | 0 | 0 | 0 | 0 | 0 | 0 | 0 | 0 |\n| FORCAST | 2 | 0 | 0 | 0 | 0 | 0 | 0 | 0 | 0 | 0 | 0 | 4 | 0 | 0 | 0 |\n| R_PROG | 4 | 0 | 0 | 4 | 0 | 0 | 0 | 0 | 0 | 0 | 0 | 0 | 0 | 0 | 4 |\n| HADOOP | 0 | 0 | 0 | 0 | 0 | 0 | 0 | 0 | 0 | 4 | 0 | 0 | 0 | 0 | 0 |\n| REGRESSION | 2 | 0 | 0 | 3 | 0 | 0 | 0 | 0 | 0 | 0 | 0 | 0 | 0 | 0 | 0 |\n\n",
            "text/html": [
              "<table class=\"dataframe\">\n",
              "<caption>A data.frame: 9 × 15</caption>\n",
              "<thead>\n",
              "\t<tr><th></th><th scope=col>LN</th><th scope=col>MH</th><th scope=col>JH</th><th scope=col>EN</th><th scope=col>DU</th><th scope=col>FL</th><th scope=col>GL</th><th scope=col>AH</th><th scope=col>SA</th><th scope=col>RW</th><th scope=col>BA</th><th scope=col>MG</th><th scope=col>AF</th><th scope=col>KG</th><th scope=col>DS</th></tr>\n",
              "\t<tr><th></th><th scope=col>&lt;dbl&gt;</th><th scope=col>&lt;dbl&gt;</th><th scope=col>&lt;dbl&gt;</th><th scope=col>&lt;dbl&gt;</th><th scope=col>&lt;dbl&gt;</th><th scope=col>&lt;dbl&gt;</th><th scope=col>&lt;dbl&gt;</th><th scope=col>&lt;dbl&gt;</th><th scope=col>&lt;dbl&gt;</th><th scope=col>&lt;dbl&gt;</th><th scope=col>&lt;dbl&gt;</th><th scope=col>&lt;dbl&gt;</th><th scope=col>&lt;dbl&gt;</th><th scope=col>&lt;dbl&gt;</th><th scope=col>&lt;dbl&gt;</th></tr>\n",
              "</thead>\n",
              "<tbody>\n",
              "\t<tr><th scope=row>SQL</th><td>4</td><td>3</td><td>2</td><td>4</td><td>4</td><td>0</td><td>0</td><td>0</td><td>0</td><td>0</td><td>0</td><td>0</td><td>0</td><td>0</td><td>4</td></tr>\n",
              "\t<tr><th scope=row>Spatial</th><td>0</td><td>4</td><td>2</td><td>0</td><td>4</td><td>4</td><td>4</td><td>3</td><td>0</td><td>0</td><td>0</td><td>0</td><td>0</td><td>0</td><td>0</td></tr>\n",
              "\t<tr><th scope=row>PA1</th><td>0</td><td>0</td><td>0</td><td>0</td><td>0</td><td>0</td><td>0</td><td>0</td><td>4</td><td>2</td><td>4</td><td>4</td><td>4</td><td>3</td><td>0</td></tr>\n",
              "\t<tr><th scope=row>DM_IN_R</th><td>0</td><td>0</td><td>0</td><td>4</td><td>0</td><td>0</td><td>0</td><td>0</td><td>0</td><td>0</td><td>0</td><td>0</td><td>0</td><td>0</td><td>2</td></tr>\n",
              "\t<tr><th scope=row>PYTHON</th><td>3</td><td>4</td><td>0</td><td>0</td><td>0</td><td>0</td><td>0</td><td>0</td><td>0</td><td>0</td><td>0</td><td>0</td><td>0</td><td>0</td><td>0</td></tr>\n",
              "\t<tr><th scope=row>FORCAST</th><td>2</td><td>0</td><td>0</td><td>0</td><td>0</td><td>0</td><td>0</td><td>0</td><td>0</td><td>0</td><td>0</td><td>4</td><td>0</td><td>0</td><td>0</td></tr>\n",
              "\t<tr><th scope=row>R_PROG</th><td>4</td><td>0</td><td>0</td><td>4</td><td>0</td><td>0</td><td>0</td><td>0</td><td>0</td><td>0</td><td>0</td><td>0</td><td>0</td><td>0</td><td>4</td></tr>\n",
              "\t<tr><th scope=row>HADOOP</th><td>0</td><td>0</td><td>0</td><td>0</td><td>0</td><td>0</td><td>0</td><td>0</td><td>0</td><td>4</td><td>0</td><td>0</td><td>0</td><td>0</td><td>0</td></tr>\n",
              "\t<tr><th scope=row>REGRESSION</th><td>2</td><td>0</td><td>0</td><td>3</td><td>0</td><td>0</td><td>0</td><td>0</td><td>0</td><td>0</td><td>0</td><td>0</td><td>0</td><td>0</td><td>0</td></tr>\n",
              "</tbody>\n",
              "</table>\n"
            ]
          },
          "metadata": {}
        }
      ]
    },
    {
      "cell_type": "code",
      "metadata": {
        "colab": {
          "base_uri": "https://localhost:8080/",
          "height": 382
        },
        "id": "wK53TCmstzd4",
        "outputId": "33e3612f-5cfa-4a80-9754-3ed35c6225d9"
      },
      "source": [
        "\n",
        "Courses_mat = as.matrix(Courses) # Check the column types\n",
        "Courses_mat\n"
      ],
      "execution_count": 16,
      "outputs": [
        {
          "output_type": "display_data",
          "data": {
            "text/plain": [
              "           LN MH JH EN DU FL GL AH SA RW BA MG AF KG DS\n",
              "SQL        4  3  2  4  4  0  0  0  0  0  0  0  0  0  4 \n",
              "Spatial    0  4  2  0  4  4  4  3  0  0  0  0  0  0  0 \n",
              "PA1        0  0  0  0  0  0  0  0  4  2  4  4  4  3  0 \n",
              "DM_IN_R    0  0  0  4  0  0  0  0  0  0  0  0  0  0  2 \n",
              "PYTHON     3  4  0  0  0  0  0  0  0  0  0  0  0  0  0 \n",
              "FORCAST    2  0  0  0  0  0  0  0  0  0  0  4  0  0  0 \n",
              "R_PROG     4  0  0  4  0  0  0  0  0  0  0  0  0  0  4 \n",
              "HADOOP     0  0  0  0  0  0  0  0  0  4  0  0  0  0  0 \n",
              "REGRESSION 2  0  0  3  0  0  0  0  0  0  0  0  0  0  0 "
            ],
            "text/latex": "A matrix: 9 × 15 of type dbl\n\\begin{tabular}{r|lllllllllllllll}\n  & LN & MH & JH & EN & DU & FL & GL & AH & SA & RW & BA & MG & AF & KG & DS\\\\\n\\hline\n\tSQL & 4 & 3 & 2 & 4 & 4 & 0 & 0 & 0 & 0 & 0 & 0 & 0 & 0 & 0 & 4\\\\\n\tSpatial & 0 & 4 & 2 & 0 & 4 & 4 & 4 & 3 & 0 & 0 & 0 & 0 & 0 & 0 & 0\\\\\n\tPA1 & 0 & 0 & 0 & 0 & 0 & 0 & 0 & 0 & 4 & 2 & 4 & 4 & 4 & 3 & 0\\\\\n\tDM\\_IN\\_R & 0 & 0 & 0 & 4 & 0 & 0 & 0 & 0 & 0 & 0 & 0 & 0 & 0 & 0 & 2\\\\\n\tPYTHON & 3 & 4 & 0 & 0 & 0 & 0 & 0 & 0 & 0 & 0 & 0 & 0 & 0 & 0 & 0\\\\\n\tFORCAST & 2 & 0 & 0 & 0 & 0 & 0 & 0 & 0 & 0 & 0 & 0 & 4 & 0 & 0 & 0\\\\\n\tR\\_PROG & 4 & 0 & 0 & 4 & 0 & 0 & 0 & 0 & 0 & 0 & 0 & 0 & 0 & 0 & 4\\\\\n\tHADOOP & 0 & 0 & 0 & 0 & 0 & 0 & 0 & 0 & 0 & 4 & 0 & 0 & 0 & 0 & 0\\\\\n\tREGRESSION & 2 & 0 & 0 & 3 & 0 & 0 & 0 & 0 & 0 & 0 & 0 & 0 & 0 & 0 & 0\\\\\n\\end{tabular}\n",
            "text/markdown": "\nA matrix: 9 × 15 of type dbl\n\n| <!--/--> | LN | MH | JH | EN | DU | FL | GL | AH | SA | RW | BA | MG | AF | KG | DS |\n|---|---|---|---|---|---|---|---|---|---|---|---|---|---|---|---|\n| SQL | 4 | 3 | 2 | 4 | 4 | 0 | 0 | 0 | 0 | 0 | 0 | 0 | 0 | 0 | 4 |\n| Spatial | 0 | 4 | 2 | 0 | 4 | 4 | 4 | 3 | 0 | 0 | 0 | 0 | 0 | 0 | 0 |\n| PA1 | 0 | 0 | 0 | 0 | 0 | 0 | 0 | 0 | 4 | 2 | 4 | 4 | 4 | 3 | 0 |\n| DM_IN_R | 0 | 0 | 0 | 4 | 0 | 0 | 0 | 0 | 0 | 0 | 0 | 0 | 0 | 0 | 2 |\n| PYTHON | 3 | 4 | 0 | 0 | 0 | 0 | 0 | 0 | 0 | 0 | 0 | 0 | 0 | 0 | 0 |\n| FORCAST | 2 | 0 | 0 | 0 | 0 | 0 | 0 | 0 | 0 | 0 | 0 | 4 | 0 | 0 | 0 |\n| R_PROG | 4 | 0 | 0 | 4 | 0 | 0 | 0 | 0 | 0 | 0 | 0 | 0 | 0 | 0 | 4 |\n| HADOOP | 0 | 0 | 0 | 0 | 0 | 0 | 0 | 0 | 0 | 4 | 0 | 0 | 0 | 0 | 0 |\n| REGRESSION | 2 | 0 | 0 | 3 | 0 | 0 | 0 | 0 | 0 | 0 | 0 | 0 | 0 | 0 | 0 |\n\n",
            "text/html": [
              "<table class=\"dataframe\">\n",
              "<caption>A matrix: 9 × 15 of type dbl</caption>\n",
              "<thead>\n",
              "\t<tr><th></th><th scope=col>LN</th><th scope=col>MH</th><th scope=col>JH</th><th scope=col>EN</th><th scope=col>DU</th><th scope=col>FL</th><th scope=col>GL</th><th scope=col>AH</th><th scope=col>SA</th><th scope=col>RW</th><th scope=col>BA</th><th scope=col>MG</th><th scope=col>AF</th><th scope=col>KG</th><th scope=col>DS</th></tr>\n",
              "</thead>\n",
              "<tbody>\n",
              "\t<tr><th scope=row>SQL</th><td>4</td><td>3</td><td>2</td><td>4</td><td>4</td><td>0</td><td>0</td><td>0</td><td>0</td><td>0</td><td>0</td><td>0</td><td>0</td><td>0</td><td>4</td></tr>\n",
              "\t<tr><th scope=row>Spatial</th><td>0</td><td>4</td><td>2</td><td>0</td><td>4</td><td>4</td><td>4</td><td>3</td><td>0</td><td>0</td><td>0</td><td>0</td><td>0</td><td>0</td><td>0</td></tr>\n",
              "\t<tr><th scope=row>PA1</th><td>0</td><td>0</td><td>0</td><td>0</td><td>0</td><td>0</td><td>0</td><td>0</td><td>4</td><td>2</td><td>4</td><td>4</td><td>4</td><td>3</td><td>0</td></tr>\n",
              "\t<tr><th scope=row>DM_IN_R</th><td>0</td><td>0</td><td>0</td><td>4</td><td>0</td><td>0</td><td>0</td><td>0</td><td>0</td><td>0</td><td>0</td><td>0</td><td>0</td><td>0</td><td>2</td></tr>\n",
              "\t<tr><th scope=row>PYTHON</th><td>3</td><td>4</td><td>0</td><td>0</td><td>0</td><td>0</td><td>0</td><td>0</td><td>0</td><td>0</td><td>0</td><td>0</td><td>0</td><td>0</td><td>0</td></tr>\n",
              "\t<tr><th scope=row>FORCAST</th><td>2</td><td>0</td><td>0</td><td>0</td><td>0</td><td>0</td><td>0</td><td>0</td><td>0</td><td>0</td><td>0</td><td>4</td><td>0</td><td>0</td><td>0</td></tr>\n",
              "\t<tr><th scope=row>R_PROG</th><td>4</td><td>0</td><td>0</td><td>4</td><td>0</td><td>0</td><td>0</td><td>0</td><td>0</td><td>0</td><td>0</td><td>0</td><td>0</td><td>0</td><td>4</td></tr>\n",
              "\t<tr><th scope=row>HADOOP</th><td>0</td><td>0</td><td>0</td><td>0</td><td>0</td><td>0</td><td>0</td><td>0</td><td>0</td><td>4</td><td>0</td><td>0</td><td>0</td><td>0</td><td>0</td></tr>\n",
              "\t<tr><th scope=row>REGRESSION</th><td>2</td><td>0</td><td>0</td><td>3</td><td>0</td><td>0</td><td>0</td><td>0</td><td>0</td><td>0</td><td>0</td><td>0</td><td>0</td><td>0</td><td>0</td></tr>\n",
              "</tbody>\n",
              "</table>\n"
            ]
          },
          "metadata": {}
        }
      ]
    },
    {
      "cell_type": "code",
      "metadata": {
        "colab": {
          "base_uri": "https://localhost:8080/",
          "height": 774
        },
        "id": "CpMMrteP237-",
        "outputId": "2214be4b-53fe-43d1-96f8-bdc1d709b8c9"
      },
      "source": [
        "install.packages('lsa')\n",
        "library(lsa)\n",
        "Cos = cosine(Courses_mat)\n",
        "Cos"
      ],
      "execution_count": 17,
      "outputs": [
        {
          "output_type": "stream",
          "name": "stderr",
          "text": [
            "Installing package into ‘/usr/local/lib/R/site-library’\n",
            "(as ‘lib’ is unspecified)\n",
            "\n",
            "also installing the dependency ‘SnowballC’\n",
            "\n",
            "\n",
            "Loading required package: SnowballC\n",
            "\n"
          ]
        },
        {
          "output_type": "display_data",
          "data": {
            "text/plain": [
              "   LN        MH        JH        EN        DU        FL        GL       \n",
              "LN 1.0000000 0.5354529 0.4040610 0.7190319 0.4040610 0.0000000 0.0000000\n",
              "MH 0.5354529 1.0000000 0.7730207 0.2482286 0.7730207 0.6246950 0.6246950\n",
              "JH 0.4040610 0.7730207 1.0000000 0.3746343 1.0000000 0.7071068 0.7071068\n",
              "EN 0.7190319 0.2482286 0.3746343 1.0000000 0.3746343 0.0000000 0.0000000\n",
              "DU 0.4040610 0.7730207 1.0000000 0.3746343 1.0000000 0.7071068 0.7071068\n",
              "FL 0.0000000 0.6246950 0.7071068 0.0000000 0.7071068 1.0000000 1.0000000\n",
              "GL 0.0000000 0.6246950 0.7071068 0.0000000 0.7071068 1.0000000 1.0000000\n",
              "AH 0.0000000 0.6246950 0.7071068 0.0000000 0.7071068 1.0000000 1.0000000\n",
              "SA 0.0000000 0.0000000 0.0000000 0.0000000 0.0000000 0.0000000 0.0000000\n",
              "RW 0.0000000 0.0000000 0.0000000 0.0000000 0.0000000 0.0000000 0.0000000\n",
              "BA 0.0000000 0.0000000 0.0000000 0.0000000 0.0000000 0.0000000 0.0000000\n",
              "MG 0.2020305 0.0000000 0.0000000 0.0000000 0.0000000 0.0000000 0.0000000\n",
              "AF 0.0000000 0.0000000 0.0000000 0.0000000 0.0000000 0.0000000 0.0000000\n",
              "KG 0.0000000 0.0000000 0.0000000 0.0000000 0.0000000 0.0000000 0.0000000\n",
              "DS 0.7619048 0.3123475 0.4714045 0.8830216 0.4714045 0.0000000 0.0000000\n",
              "   AH        SA        RW        BA        MG        AF        KG       \n",
              "LN 0.0000000 0.0000000 0.0000000 0.0000000 0.2020305 0.0000000 0.0000000\n",
              "MH 0.6246950 0.0000000 0.0000000 0.0000000 0.0000000 0.0000000 0.0000000\n",
              "JH 0.7071068 0.0000000 0.0000000 0.0000000 0.0000000 0.0000000 0.0000000\n",
              "EN 0.0000000 0.0000000 0.0000000 0.0000000 0.0000000 0.0000000 0.0000000\n",
              "DU 0.7071068 0.0000000 0.0000000 0.0000000 0.0000000 0.0000000 0.0000000\n",
              "FL 1.0000000 0.0000000 0.0000000 0.0000000 0.0000000 0.0000000 0.0000000\n",
              "GL 1.0000000 0.0000000 0.0000000 0.0000000 0.0000000 0.0000000 0.0000000\n",
              "AH 1.0000000 0.0000000 0.0000000 0.0000000 0.0000000 0.0000000 0.0000000\n",
              "SA 0.0000000 1.0000000 0.4472136 1.0000000 0.7071068 1.0000000 1.0000000\n",
              "RW 0.0000000 0.4472136 1.0000000 0.4472136 0.3162278 0.4472136 0.4472136\n",
              "BA 0.0000000 1.0000000 0.4472136 1.0000000 0.7071068 1.0000000 1.0000000\n",
              "MG 0.0000000 0.7071068 0.3162278 0.7071068 1.0000000 0.7071068 0.7071068\n",
              "AF 0.0000000 1.0000000 0.4472136 1.0000000 0.7071068 1.0000000 1.0000000\n",
              "KG 0.0000000 1.0000000 0.4472136 1.0000000 0.7071068 1.0000000 1.0000000\n",
              "DS 0.0000000 0.0000000 0.0000000 0.0000000 0.0000000 0.0000000 0.0000000\n",
              "   DS       \n",
              "LN 0.7619048\n",
              "MH 0.3123475\n",
              "JH 0.4714045\n",
              "EN 0.8830216\n",
              "DU 0.4714045\n",
              "FL 0.0000000\n",
              "GL 0.0000000\n",
              "AH 0.0000000\n",
              "SA 0.0000000\n",
              "RW 0.0000000\n",
              "BA 0.0000000\n",
              "MG 0.0000000\n",
              "AF 0.0000000\n",
              "KG 0.0000000\n",
              "DS 1.0000000"
            ],
            "text/latex": "A matrix: 15 × 15 of type dbl\n\\begin{tabular}{r|lllllllllllllll}\n  & LN & MH & JH & EN & DU & FL & GL & AH & SA & RW & BA & MG & AF & KG & DS\\\\\n\\hline\n\tLN & 1.0000000 & 0.5354529 & 0.4040610 & 0.7190319 & 0.4040610 & 0.0000000 & 0.0000000 & 0.0000000 & 0.0000000 & 0.0000000 & 0.0000000 & 0.2020305 & 0.0000000 & 0.0000000 & 0.7619048\\\\\n\tMH & 0.5354529 & 1.0000000 & 0.7730207 & 0.2482286 & 0.7730207 & 0.6246950 & 0.6246950 & 0.6246950 & 0.0000000 & 0.0000000 & 0.0000000 & 0.0000000 & 0.0000000 & 0.0000000 & 0.3123475\\\\\n\tJH & 0.4040610 & 0.7730207 & 1.0000000 & 0.3746343 & 1.0000000 & 0.7071068 & 0.7071068 & 0.7071068 & 0.0000000 & 0.0000000 & 0.0000000 & 0.0000000 & 0.0000000 & 0.0000000 & 0.4714045\\\\\n\tEN & 0.7190319 & 0.2482286 & 0.3746343 & 1.0000000 & 0.3746343 & 0.0000000 & 0.0000000 & 0.0000000 & 0.0000000 & 0.0000000 & 0.0000000 & 0.0000000 & 0.0000000 & 0.0000000 & 0.8830216\\\\\n\tDU & 0.4040610 & 0.7730207 & 1.0000000 & 0.3746343 & 1.0000000 & 0.7071068 & 0.7071068 & 0.7071068 & 0.0000000 & 0.0000000 & 0.0000000 & 0.0000000 & 0.0000000 & 0.0000000 & 0.4714045\\\\\n\tFL & 0.0000000 & 0.6246950 & 0.7071068 & 0.0000000 & 0.7071068 & 1.0000000 & 1.0000000 & 1.0000000 & 0.0000000 & 0.0000000 & 0.0000000 & 0.0000000 & 0.0000000 & 0.0000000 & 0.0000000\\\\\n\tGL & 0.0000000 & 0.6246950 & 0.7071068 & 0.0000000 & 0.7071068 & 1.0000000 & 1.0000000 & 1.0000000 & 0.0000000 & 0.0000000 & 0.0000000 & 0.0000000 & 0.0000000 & 0.0000000 & 0.0000000\\\\\n\tAH & 0.0000000 & 0.6246950 & 0.7071068 & 0.0000000 & 0.7071068 & 1.0000000 & 1.0000000 & 1.0000000 & 0.0000000 & 0.0000000 & 0.0000000 & 0.0000000 & 0.0000000 & 0.0000000 & 0.0000000\\\\\n\tSA & 0.0000000 & 0.0000000 & 0.0000000 & 0.0000000 & 0.0000000 & 0.0000000 & 0.0000000 & 0.0000000 & 1.0000000 & 0.4472136 & 1.0000000 & 0.7071068 & 1.0000000 & 1.0000000 & 0.0000000\\\\\n\tRW & 0.0000000 & 0.0000000 & 0.0000000 & 0.0000000 & 0.0000000 & 0.0000000 & 0.0000000 & 0.0000000 & 0.4472136 & 1.0000000 & 0.4472136 & 0.3162278 & 0.4472136 & 0.4472136 & 0.0000000\\\\\n\tBA & 0.0000000 & 0.0000000 & 0.0000000 & 0.0000000 & 0.0000000 & 0.0000000 & 0.0000000 & 0.0000000 & 1.0000000 & 0.4472136 & 1.0000000 & 0.7071068 & 1.0000000 & 1.0000000 & 0.0000000\\\\\n\tMG & 0.2020305 & 0.0000000 & 0.0000000 & 0.0000000 & 0.0000000 & 0.0000000 & 0.0000000 & 0.0000000 & 0.7071068 & 0.3162278 & 0.7071068 & 1.0000000 & 0.7071068 & 0.7071068 & 0.0000000\\\\\n\tAF & 0.0000000 & 0.0000000 & 0.0000000 & 0.0000000 & 0.0000000 & 0.0000000 & 0.0000000 & 0.0000000 & 1.0000000 & 0.4472136 & 1.0000000 & 0.7071068 & 1.0000000 & 1.0000000 & 0.0000000\\\\\n\tKG & 0.0000000 & 0.0000000 & 0.0000000 & 0.0000000 & 0.0000000 & 0.0000000 & 0.0000000 & 0.0000000 & 1.0000000 & 0.4472136 & 1.0000000 & 0.7071068 & 1.0000000 & 1.0000000 & 0.0000000\\\\\n\tDS & 0.7619048 & 0.3123475 & 0.4714045 & 0.8830216 & 0.4714045 & 0.0000000 & 0.0000000 & 0.0000000 & 0.0000000 & 0.0000000 & 0.0000000 & 0.0000000 & 0.0000000 & 0.0000000 & 1.0000000\\\\\n\\end{tabular}\n",
            "text/markdown": "\nA matrix: 15 × 15 of type dbl\n\n| <!--/--> | LN | MH | JH | EN | DU | FL | GL | AH | SA | RW | BA | MG | AF | KG | DS |\n|---|---|---|---|---|---|---|---|---|---|---|---|---|---|---|---|\n| LN | 1.0000000 | 0.5354529 | 0.4040610 | 0.7190319 | 0.4040610 | 0.0000000 | 0.0000000 | 0.0000000 | 0.0000000 | 0.0000000 | 0.0000000 | 0.2020305 | 0.0000000 | 0.0000000 | 0.7619048 |\n| MH | 0.5354529 | 1.0000000 | 0.7730207 | 0.2482286 | 0.7730207 | 0.6246950 | 0.6246950 | 0.6246950 | 0.0000000 | 0.0000000 | 0.0000000 | 0.0000000 | 0.0000000 | 0.0000000 | 0.3123475 |\n| JH | 0.4040610 | 0.7730207 | 1.0000000 | 0.3746343 | 1.0000000 | 0.7071068 | 0.7071068 | 0.7071068 | 0.0000000 | 0.0000000 | 0.0000000 | 0.0000000 | 0.0000000 | 0.0000000 | 0.4714045 |\n| EN | 0.7190319 | 0.2482286 | 0.3746343 | 1.0000000 | 0.3746343 | 0.0000000 | 0.0000000 | 0.0000000 | 0.0000000 | 0.0000000 | 0.0000000 | 0.0000000 | 0.0000000 | 0.0000000 | 0.8830216 |\n| DU | 0.4040610 | 0.7730207 | 1.0000000 | 0.3746343 | 1.0000000 | 0.7071068 | 0.7071068 | 0.7071068 | 0.0000000 | 0.0000000 | 0.0000000 | 0.0000000 | 0.0000000 | 0.0000000 | 0.4714045 |\n| FL | 0.0000000 | 0.6246950 | 0.7071068 | 0.0000000 | 0.7071068 | 1.0000000 | 1.0000000 | 1.0000000 | 0.0000000 | 0.0000000 | 0.0000000 | 0.0000000 | 0.0000000 | 0.0000000 | 0.0000000 |\n| GL | 0.0000000 | 0.6246950 | 0.7071068 | 0.0000000 | 0.7071068 | 1.0000000 | 1.0000000 | 1.0000000 | 0.0000000 | 0.0000000 | 0.0000000 | 0.0000000 | 0.0000000 | 0.0000000 | 0.0000000 |\n| AH | 0.0000000 | 0.6246950 | 0.7071068 | 0.0000000 | 0.7071068 | 1.0000000 | 1.0000000 | 1.0000000 | 0.0000000 | 0.0000000 | 0.0000000 | 0.0000000 | 0.0000000 | 0.0000000 | 0.0000000 |\n| SA | 0.0000000 | 0.0000000 | 0.0000000 | 0.0000000 | 0.0000000 | 0.0000000 | 0.0000000 | 0.0000000 | 1.0000000 | 0.4472136 | 1.0000000 | 0.7071068 | 1.0000000 | 1.0000000 | 0.0000000 |\n| RW | 0.0000000 | 0.0000000 | 0.0000000 | 0.0000000 | 0.0000000 | 0.0000000 | 0.0000000 | 0.0000000 | 0.4472136 | 1.0000000 | 0.4472136 | 0.3162278 | 0.4472136 | 0.4472136 | 0.0000000 |\n| BA | 0.0000000 | 0.0000000 | 0.0000000 | 0.0000000 | 0.0000000 | 0.0000000 | 0.0000000 | 0.0000000 | 1.0000000 | 0.4472136 | 1.0000000 | 0.7071068 | 1.0000000 | 1.0000000 | 0.0000000 |\n| MG | 0.2020305 | 0.0000000 | 0.0000000 | 0.0000000 | 0.0000000 | 0.0000000 | 0.0000000 | 0.0000000 | 0.7071068 | 0.3162278 | 0.7071068 | 1.0000000 | 0.7071068 | 0.7071068 | 0.0000000 |\n| AF | 0.0000000 | 0.0000000 | 0.0000000 | 0.0000000 | 0.0000000 | 0.0000000 | 0.0000000 | 0.0000000 | 1.0000000 | 0.4472136 | 1.0000000 | 0.7071068 | 1.0000000 | 1.0000000 | 0.0000000 |\n| KG | 0.0000000 | 0.0000000 | 0.0000000 | 0.0000000 | 0.0000000 | 0.0000000 | 0.0000000 | 0.0000000 | 1.0000000 | 0.4472136 | 1.0000000 | 0.7071068 | 1.0000000 | 1.0000000 | 0.0000000 |\n| DS | 0.7619048 | 0.3123475 | 0.4714045 | 0.8830216 | 0.4714045 | 0.0000000 | 0.0000000 | 0.0000000 | 0.0000000 | 0.0000000 | 0.0000000 | 0.0000000 | 0.0000000 | 0.0000000 | 1.0000000 |\n\n",
            "text/html": [
              "<table class=\"dataframe\">\n",
              "<caption>A matrix: 15 × 15 of type dbl</caption>\n",
              "<thead>\n",
              "\t<tr><th></th><th scope=col>LN</th><th scope=col>MH</th><th scope=col>JH</th><th scope=col>EN</th><th scope=col>DU</th><th scope=col>FL</th><th scope=col>GL</th><th scope=col>AH</th><th scope=col>SA</th><th scope=col>RW</th><th scope=col>BA</th><th scope=col>MG</th><th scope=col>AF</th><th scope=col>KG</th><th scope=col>DS</th></tr>\n",
              "</thead>\n",
              "<tbody>\n",
              "\t<tr><th scope=row>LN</th><td>1.0000000</td><td>0.5354529</td><td>0.4040610</td><td>0.7190319</td><td>0.4040610</td><td>0.0000000</td><td>0.0000000</td><td>0.0000000</td><td>0.0000000</td><td>0.0000000</td><td>0.0000000</td><td>0.2020305</td><td>0.0000000</td><td>0.0000000</td><td>0.7619048</td></tr>\n",
              "\t<tr><th scope=row>MH</th><td>0.5354529</td><td>1.0000000</td><td>0.7730207</td><td>0.2482286</td><td>0.7730207</td><td>0.6246950</td><td>0.6246950</td><td>0.6246950</td><td>0.0000000</td><td>0.0000000</td><td>0.0000000</td><td>0.0000000</td><td>0.0000000</td><td>0.0000000</td><td>0.3123475</td></tr>\n",
              "\t<tr><th scope=row>JH</th><td>0.4040610</td><td>0.7730207</td><td>1.0000000</td><td>0.3746343</td><td>1.0000000</td><td>0.7071068</td><td>0.7071068</td><td>0.7071068</td><td>0.0000000</td><td>0.0000000</td><td>0.0000000</td><td>0.0000000</td><td>0.0000000</td><td>0.0000000</td><td>0.4714045</td></tr>\n",
              "\t<tr><th scope=row>EN</th><td>0.7190319</td><td>0.2482286</td><td>0.3746343</td><td>1.0000000</td><td>0.3746343</td><td>0.0000000</td><td>0.0000000</td><td>0.0000000</td><td>0.0000000</td><td>0.0000000</td><td>0.0000000</td><td>0.0000000</td><td>0.0000000</td><td>0.0000000</td><td>0.8830216</td></tr>\n",
              "\t<tr><th scope=row>DU</th><td>0.4040610</td><td>0.7730207</td><td>1.0000000</td><td>0.3746343</td><td>1.0000000</td><td>0.7071068</td><td>0.7071068</td><td>0.7071068</td><td>0.0000000</td><td>0.0000000</td><td>0.0000000</td><td>0.0000000</td><td>0.0000000</td><td>0.0000000</td><td>0.4714045</td></tr>\n",
              "\t<tr><th scope=row>FL</th><td>0.0000000</td><td>0.6246950</td><td>0.7071068</td><td>0.0000000</td><td>0.7071068</td><td>1.0000000</td><td>1.0000000</td><td>1.0000000</td><td>0.0000000</td><td>0.0000000</td><td>0.0000000</td><td>0.0000000</td><td>0.0000000</td><td>0.0000000</td><td>0.0000000</td></tr>\n",
              "\t<tr><th scope=row>GL</th><td>0.0000000</td><td>0.6246950</td><td>0.7071068</td><td>0.0000000</td><td>0.7071068</td><td>1.0000000</td><td>1.0000000</td><td>1.0000000</td><td>0.0000000</td><td>0.0000000</td><td>0.0000000</td><td>0.0000000</td><td>0.0000000</td><td>0.0000000</td><td>0.0000000</td></tr>\n",
              "\t<tr><th scope=row>AH</th><td>0.0000000</td><td>0.6246950</td><td>0.7071068</td><td>0.0000000</td><td>0.7071068</td><td>1.0000000</td><td>1.0000000</td><td>1.0000000</td><td>0.0000000</td><td>0.0000000</td><td>0.0000000</td><td>0.0000000</td><td>0.0000000</td><td>0.0000000</td><td>0.0000000</td></tr>\n",
              "\t<tr><th scope=row>SA</th><td>0.0000000</td><td>0.0000000</td><td>0.0000000</td><td>0.0000000</td><td>0.0000000</td><td>0.0000000</td><td>0.0000000</td><td>0.0000000</td><td>1.0000000</td><td>0.4472136</td><td>1.0000000</td><td>0.7071068</td><td>1.0000000</td><td>1.0000000</td><td>0.0000000</td></tr>\n",
              "\t<tr><th scope=row>RW</th><td>0.0000000</td><td>0.0000000</td><td>0.0000000</td><td>0.0000000</td><td>0.0000000</td><td>0.0000000</td><td>0.0000000</td><td>0.0000000</td><td>0.4472136</td><td>1.0000000</td><td>0.4472136</td><td>0.3162278</td><td>0.4472136</td><td>0.4472136</td><td>0.0000000</td></tr>\n",
              "\t<tr><th scope=row>BA</th><td>0.0000000</td><td>0.0000000</td><td>0.0000000</td><td>0.0000000</td><td>0.0000000</td><td>0.0000000</td><td>0.0000000</td><td>0.0000000</td><td>1.0000000</td><td>0.4472136</td><td>1.0000000</td><td>0.7071068</td><td>1.0000000</td><td>1.0000000</td><td>0.0000000</td></tr>\n",
              "\t<tr><th scope=row>MG</th><td>0.2020305</td><td>0.0000000</td><td>0.0000000</td><td>0.0000000</td><td>0.0000000</td><td>0.0000000</td><td>0.0000000</td><td>0.0000000</td><td>0.7071068</td><td>0.3162278</td><td>0.7071068</td><td>1.0000000</td><td>0.7071068</td><td>0.7071068</td><td>0.0000000</td></tr>\n",
              "\t<tr><th scope=row>AF</th><td>0.0000000</td><td>0.0000000</td><td>0.0000000</td><td>0.0000000</td><td>0.0000000</td><td>0.0000000</td><td>0.0000000</td><td>0.0000000</td><td>1.0000000</td><td>0.4472136</td><td>1.0000000</td><td>0.7071068</td><td>1.0000000</td><td>1.0000000</td><td>0.0000000</td></tr>\n",
              "\t<tr><th scope=row>KG</th><td>0.0000000</td><td>0.0000000</td><td>0.0000000</td><td>0.0000000</td><td>0.0000000</td><td>0.0000000</td><td>0.0000000</td><td>0.0000000</td><td>1.0000000</td><td>0.4472136</td><td>1.0000000</td><td>0.7071068</td><td>1.0000000</td><td>1.0000000</td><td>0.0000000</td></tr>\n",
              "\t<tr><th scope=row>DS</th><td>0.7619048</td><td>0.3123475</td><td>0.4714045</td><td>0.8830216</td><td>0.4714045</td><td>0.0000000</td><td>0.0000000</td><td>0.0000000</td><td>0.0000000</td><td>0.0000000</td><td>0.0000000</td><td>0.0000000</td><td>0.0000000</td><td>0.0000000</td><td>1.0000000</td></tr>\n",
              "</tbody>\n",
              "</table>\n"
            ]
          },
          "metadata": {}
        }
      ]
    },
    {
      "cell_type": "markdown",
      "metadata": {
        "id": "o9G9u8bHD7Rd"
      },
      "source": [
        "## **4) Based on the cosine similarities of the nearest students to E.N., which course should be recommended to E.N.?**"
      ]
    },
    {
      "cell_type": "code",
      "metadata": {
        "colab": {
          "base_uri": "https://localhost:8080/",
          "height": 106
        },
        "id": "HsPD-TZm8zSj",
        "outputId": "961fd636-d208-4cda-e7af-6ada1a7576fd"
      },
      "source": [
        "# similarity between EN and all students\n",
        "R = as.data.frame(Cos)\n",
        "sim = t(subset(R, select = 'EN'))\n",
        "sim"
      ],
      "execution_count": 18,
      "outputs": [
        {
          "output_type": "display_data",
          "data": {
            "text/plain": [
              "   LN        MH        JH        EN DU        FL GL AH SA RW BA MG AF KG\n",
              "EN 0.7190319 0.2482286 0.3746343 1  0.3746343 0  0  0  0  0  0  0  0  0 \n",
              "   DS       \n",
              "EN 0.8830216"
            ],
            "text/latex": "A matrix: 1 × 15 of type dbl\n\\begin{tabular}{r|lllllllllllllll}\n  & LN & MH & JH & EN & DU & FL & GL & AH & SA & RW & BA & MG & AF & KG & DS\\\\\n\\hline\n\tEN & 0.7190319 & 0.2482286 & 0.3746343 & 1 & 0.3746343 & 0 & 0 & 0 & 0 & 0 & 0 & 0 & 0 & 0 & 0.8830216\\\\\n\\end{tabular}\n",
            "text/markdown": "\nA matrix: 1 × 15 of type dbl\n\n| <!--/--> | LN | MH | JH | EN | DU | FL | GL | AH | SA | RW | BA | MG | AF | KG | DS |\n|---|---|---|---|---|---|---|---|---|---|---|---|---|---|---|---|\n| EN | 0.7190319 | 0.2482286 | 0.3746343 | 1 | 0.3746343 | 0 | 0 | 0 | 0 | 0 | 0 | 0 | 0 | 0 | 0.8830216 |\n\n",
            "text/html": [
              "<table class=\"dataframe\">\n",
              "<caption>A matrix: 1 × 15 of type dbl</caption>\n",
              "<thead>\n",
              "\t<tr><th></th><th scope=col>LN</th><th scope=col>MH</th><th scope=col>JH</th><th scope=col>EN</th><th scope=col>DU</th><th scope=col>FL</th><th scope=col>GL</th><th scope=col>AH</th><th scope=col>SA</th><th scope=col>RW</th><th scope=col>BA</th><th scope=col>MG</th><th scope=col>AF</th><th scope=col>KG</th><th scope=col>DS</th></tr>\n",
              "</thead>\n",
              "<tbody>\n",
              "\t<tr><th scope=row>EN</th><td>0.7190319</td><td>0.2482286</td><td>0.3746343</td><td>1</td><td>0.3746343</td><td>0</td><td>0</td><td>0</td><td>0</td><td>0</td><td>0</td><td>0</td><td>0</td><td>0</td><td>0.8830216</td></tr>\n",
              "</tbody>\n",
              "</table>\n"
            ]
          },
          "metadata": {}
        }
      ]
    },
    {
      "cell_type": "markdown",
      "metadata": {
        "id": "yLztJewC_U04"
      },
      "source": [
        "based on cosine similarity(choose high values) we will choose the recommended course which EN doesn't take it yet "
      ]
    },
    {
      "cell_type": "code",
      "metadata": {
        "colab": {
          "base_uri": "https://localhost:8080/",
          "height": 141
        },
        "id": "G72TQsnZ_NX4",
        "outputId": "ab53579e-ff6e-4418-835b-074d0fcfeb7d"
      },
      "source": [
        "# first the cosine sim between EN and DS is the largest one \n",
        "EN_DS = t(subset(Courses ,select = c('EN','DS')))\n",
        "EN_DS"
      ],
      "execution_count": 19,
      "outputs": [
        {
          "output_type": "display_data",
          "data": {
            "text/plain": [
              "   SQL Spatial PA1 DM_IN_R PYTHON FORCAST R_PROG HADOOP REGRESSION\n",
              "EN 4   0       0   4       0      0       4      0      3         \n",
              "DS 4   0       0   2       0      0       4      0      0         "
            ],
            "text/latex": "A matrix: 2 × 9 of type dbl\n\\begin{tabular}{r|lllllllll}\n  & SQL & Spatial & PA1 & DM\\_IN\\_R & PYTHON & FORCAST & R\\_PROG & HADOOP & REGRESSION\\\\\n\\hline\n\tEN & 4 & 0 & 0 & 4 & 0 & 0 & 4 & 0 & 3\\\\\n\tDS & 4 & 0 & 0 & 2 & 0 & 0 & 4 & 0 & 0\\\\\n\\end{tabular}\n",
            "text/markdown": "\nA matrix: 2 × 9 of type dbl\n\n| <!--/--> | SQL | Spatial | PA1 | DM_IN_R | PYTHON | FORCAST | R_PROG | HADOOP | REGRESSION |\n|---|---|---|---|---|---|---|---|---|---|\n| EN | 4 | 0 | 0 | 4 | 0 | 0 | 4 | 0 | 3 |\n| DS | 4 | 0 | 0 | 2 | 0 | 0 | 4 | 0 | 0 |\n\n",
            "text/html": [
              "<table class=\"dataframe\">\n",
              "<caption>A matrix: 2 × 9 of type dbl</caption>\n",
              "<thead>\n",
              "\t<tr><th></th><th scope=col>SQL</th><th scope=col>Spatial</th><th scope=col>PA1</th><th scope=col>DM_IN_R</th><th scope=col>PYTHON</th><th scope=col>FORCAST</th><th scope=col>R_PROG</th><th scope=col>HADOOP</th><th scope=col>REGRESSION</th></tr>\n",
              "</thead>\n",
              "<tbody>\n",
              "\t<tr><th scope=row>EN</th><td>4</td><td>0</td><td>0</td><td>4</td><td>0</td><td>0</td><td>4</td><td>0</td><td>3</td></tr>\n",
              "\t<tr><th scope=row>DS</th><td>4</td><td>0</td><td>0</td><td>2</td><td>0</td><td>0</td><td>4</td><td>0</td><td>0</td></tr>\n",
              "</tbody>\n",
              "</table>\n"
            ]
          },
          "metadata": {}
        }
      ]
    },
    {
      "cell_type": "markdown",
      "metadata": {
        "id": "b9GffjawBPL2"
      },
      "source": [
        "####    therefor there is no courses that DS take while EN didn't so there is no recommendation from DS Courses"
      ]
    },
    {
      "cell_type": "code",
      "metadata": {
        "colab": {
          "base_uri": "https://localhost:8080/",
          "height": 141
        },
        "id": "T7cXl_GZ_NVQ",
        "outputId": "fd0214e9-86e0-44fd-b746-eabb474109d1"
      },
      "source": [
        "# first the cosine sim between EN and LN is the  second largest one \n",
        "EN_LN = t(subset(Courses ,select = c('EN','LN')))\n",
        "EN_LN"
      ],
      "execution_count": 20,
      "outputs": [
        {
          "output_type": "display_data",
          "data": {
            "text/plain": [
              "   SQL Spatial PA1 DM_IN_R PYTHON FORCAST R_PROG HADOOP REGRESSION\n",
              "EN 4   0       0   4       0      0       4      0      3         \n",
              "LN 4   0       0   0       3      2       4      0      2         "
            ],
            "text/latex": "A matrix: 2 × 9 of type dbl\n\\begin{tabular}{r|lllllllll}\n  & SQL & Spatial & PA1 & DM\\_IN\\_R & PYTHON & FORCAST & R\\_PROG & HADOOP & REGRESSION\\\\\n\\hline\n\tEN & 4 & 0 & 0 & 4 & 0 & 0 & 4 & 0 & 3\\\\\n\tLN & 4 & 0 & 0 & 0 & 3 & 2 & 4 & 0 & 2\\\\\n\\end{tabular}\n",
            "text/markdown": "\nA matrix: 2 × 9 of type dbl\n\n| <!--/--> | SQL | Spatial | PA1 | DM_IN_R | PYTHON | FORCAST | R_PROG | HADOOP | REGRESSION |\n|---|---|---|---|---|---|---|---|---|---|\n| EN | 4 | 0 | 0 | 4 | 0 | 0 | 4 | 0 | 3 |\n| LN | 4 | 0 | 0 | 0 | 3 | 2 | 4 | 0 | 2 |\n\n",
            "text/html": [
              "<table class=\"dataframe\">\n",
              "<caption>A matrix: 2 × 9 of type dbl</caption>\n",
              "<thead>\n",
              "\t<tr><th></th><th scope=col>SQL</th><th scope=col>Spatial</th><th scope=col>PA1</th><th scope=col>DM_IN_R</th><th scope=col>PYTHON</th><th scope=col>FORCAST</th><th scope=col>R_PROG</th><th scope=col>HADOOP</th><th scope=col>REGRESSION</th></tr>\n",
              "</thead>\n",
              "<tbody>\n",
              "\t<tr><th scope=row>EN</th><td>4</td><td>0</td><td>0</td><td>4</td><td>0</td><td>0</td><td>4</td><td>0</td><td>3</td></tr>\n",
              "\t<tr><th scope=row>LN</th><td>4</td><td>0</td><td>0</td><td>0</td><td>3</td><td>2</td><td>4</td><td>0</td><td>2</td></tr>\n",
              "</tbody>\n",
              "</table>\n"
            ]
          },
          "metadata": {}
        }
      ]
    },
    {
      "cell_type": "markdown",
      "metadata": {
        "id": "6thWgeEHBype"
      },
      "source": [
        "here there are two courses that LN had token while the EN didn't \n",
        "  - Python with rating 3\n",
        "  - Regression with rating 2 \n",
        "\n",
        "so the recommender system will return **Python Course** as a single Course recommended\n"
      ]
    },
    {
      "cell_type": "markdown",
      "metadata": {
        "id": "OhFvMqpiECml"
      },
      "source": [
        "## **5) Apply item-based collaborative filtering to this dataset (using R) and based on the results recommend a course to E.N.**"
      ]
    },
    {
      "cell_type": "code",
      "metadata": {
        "colab": {
          "base_uri": "https://localhost:8080/",
          "height": 624
        },
        "id": "joHXqqJUSlRu",
        "outputId": "7e191617-3bab-4b94-b4f7-22d0ef40829f"
      },
      "source": [
        "ratings_id <-data.frame(studentid,SQL,Spatial,\n",
        "                          PA1,DM_IN_R,PYTHON,FORCAST,\n",
        "                          R_PROG,HADOOP,REGRESSION)\n",
        "ratings_id"
      ],
      "execution_count": 22,
      "outputs": [
        {
          "output_type": "display_data",
          "data": {
            "text/plain": [
              "   studentid SQL Spatial PA1 DM_IN_R PYTHON FORCAST R_PROG HADOOP REGRESSION\n",
              "1  LN         4  NA      NA  NA       3      2       4     NA      2        \n",
              "2  MH         3   4      NA  NA       4     NA      NA     NA     NA        \n",
              "3  JH         2   2      NA  NA      NA     NA      NA     NA     NA        \n",
              "4  EN         4  NA      NA   4      NA     NA       4     NA      3        \n",
              "5  DU         4   4      NA  NA      NA     NA      NA     NA     NA        \n",
              "6  FL        NA   4      NA  NA      NA     NA      NA     NA     NA        \n",
              "7  GL        NA   4      NA  NA      NA     NA      NA     NA     NA        \n",
              "8  AH        NA   3      NA  NA      NA     NA      NA     NA     NA        \n",
              "9  SA        NA  NA       4  NA      NA     NA      NA     NA     NA        \n",
              "10 RW        NA  NA       2  NA      NA     NA      NA      4     NA        \n",
              "11 BA        NA  NA       4  NA      NA     NA      NA     NA     NA        \n",
              "12 MG        NA  NA       4  NA      NA      4      NA     NA     NA        \n",
              "13 AF        NA  NA       4  NA      NA     NA      NA     NA     NA        \n",
              "14 KG        NA  NA       3  NA      NA     NA      NA     NA     NA        \n",
              "15 DS         4  NA      NA   2      NA     NA       4     NA     NA        "
            ],
            "text/latex": "A data.frame: 15 × 10\n\\begin{tabular}{llllllllll}\n studentid & SQL & Spatial & PA1 & DM\\_IN\\_R & PYTHON & FORCAST & R\\_PROG & HADOOP & REGRESSION\\\\\n <chr> & <dbl> & <dbl> & <dbl> & <dbl> & <dbl> & <dbl> & <dbl> & <dbl> & <dbl>\\\\\n\\hline\n\t LN &  4 & NA & NA & NA &  3 &  2 &  4 & NA &  2\\\\\n\t MH &  3 &  4 & NA & NA &  4 & NA & NA & NA & NA\\\\\n\t JH &  2 &  2 & NA & NA & NA & NA & NA & NA & NA\\\\\n\t EN &  4 & NA & NA &  4 & NA & NA &  4 & NA &  3\\\\\n\t DU &  4 &  4 & NA & NA & NA & NA & NA & NA & NA\\\\\n\t FL & NA &  4 & NA & NA & NA & NA & NA & NA & NA\\\\\n\t GL & NA &  4 & NA & NA & NA & NA & NA & NA & NA\\\\\n\t AH & NA &  3 & NA & NA & NA & NA & NA & NA & NA\\\\\n\t SA & NA & NA &  4 & NA & NA & NA & NA & NA & NA\\\\\n\t RW & NA & NA &  2 & NA & NA & NA & NA &  4 & NA\\\\\n\t BA & NA & NA &  4 & NA & NA & NA & NA & NA & NA\\\\\n\t MG & NA & NA &  4 & NA & NA &  4 & NA & NA & NA\\\\\n\t AF & NA & NA &  4 & NA & NA & NA & NA & NA & NA\\\\\n\t KG & NA & NA &  3 & NA & NA & NA & NA & NA & NA\\\\\n\t DS &  4 & NA & NA &  2 & NA & NA &  4 & NA & NA\\\\\n\\end{tabular}\n",
            "text/markdown": "\nA data.frame: 15 × 10\n\n| studentid &lt;chr&gt; | SQL &lt;dbl&gt; | Spatial &lt;dbl&gt; | PA1 &lt;dbl&gt; | DM_IN_R &lt;dbl&gt; | PYTHON &lt;dbl&gt; | FORCAST &lt;dbl&gt; | R_PROG &lt;dbl&gt; | HADOOP &lt;dbl&gt; | REGRESSION &lt;dbl&gt; |\n|---|---|---|---|---|---|---|---|---|---|\n| LN |  4 | NA | NA | NA |  3 |  2 |  4 | NA |  2 |\n| MH |  3 |  4 | NA | NA |  4 | NA | NA | NA | NA |\n| JH |  2 |  2 | NA | NA | NA | NA | NA | NA | NA |\n| EN |  4 | NA | NA |  4 | NA | NA |  4 | NA |  3 |\n| DU |  4 |  4 | NA | NA | NA | NA | NA | NA | NA |\n| FL | NA |  4 | NA | NA | NA | NA | NA | NA | NA |\n| GL | NA |  4 | NA | NA | NA | NA | NA | NA | NA |\n| AH | NA |  3 | NA | NA | NA | NA | NA | NA | NA |\n| SA | NA | NA |  4 | NA | NA | NA | NA | NA | NA |\n| RW | NA | NA |  2 | NA | NA | NA | NA |  4 | NA |\n| BA | NA | NA |  4 | NA | NA | NA | NA | NA | NA |\n| MG | NA | NA |  4 | NA | NA |  4 | NA | NA | NA |\n| AF | NA | NA |  4 | NA | NA | NA | NA | NA | NA |\n| KG | NA | NA |  3 | NA | NA | NA | NA | NA | NA |\n| DS |  4 | NA | NA |  2 | NA | NA |  4 | NA | NA |\n\n",
            "text/html": [
              "<table class=\"dataframe\">\n",
              "<caption>A data.frame: 15 × 10</caption>\n",
              "<thead>\n",
              "\t<tr><th scope=col>studentid</th><th scope=col>SQL</th><th scope=col>Spatial</th><th scope=col>PA1</th><th scope=col>DM_IN_R</th><th scope=col>PYTHON</th><th scope=col>FORCAST</th><th scope=col>R_PROG</th><th scope=col>HADOOP</th><th scope=col>REGRESSION</th></tr>\n",
              "\t<tr><th scope=col>&lt;chr&gt;</th><th scope=col>&lt;dbl&gt;</th><th scope=col>&lt;dbl&gt;</th><th scope=col>&lt;dbl&gt;</th><th scope=col>&lt;dbl&gt;</th><th scope=col>&lt;dbl&gt;</th><th scope=col>&lt;dbl&gt;</th><th scope=col>&lt;dbl&gt;</th><th scope=col>&lt;dbl&gt;</th><th scope=col>&lt;dbl&gt;</th></tr>\n",
              "</thead>\n",
              "<tbody>\n",
              "\t<tr><td>LN</td><td> 4</td><td>NA</td><td>NA</td><td>NA</td><td> 3</td><td> 2</td><td> 4</td><td>NA</td><td> 2</td></tr>\n",
              "\t<tr><td>MH</td><td> 3</td><td> 4</td><td>NA</td><td>NA</td><td> 4</td><td>NA</td><td>NA</td><td>NA</td><td>NA</td></tr>\n",
              "\t<tr><td>JH</td><td> 2</td><td> 2</td><td>NA</td><td>NA</td><td>NA</td><td>NA</td><td>NA</td><td>NA</td><td>NA</td></tr>\n",
              "\t<tr><td>EN</td><td> 4</td><td>NA</td><td>NA</td><td> 4</td><td>NA</td><td>NA</td><td> 4</td><td>NA</td><td> 3</td></tr>\n",
              "\t<tr><td>DU</td><td> 4</td><td> 4</td><td>NA</td><td>NA</td><td>NA</td><td>NA</td><td>NA</td><td>NA</td><td>NA</td></tr>\n",
              "\t<tr><td>FL</td><td>NA</td><td> 4</td><td>NA</td><td>NA</td><td>NA</td><td>NA</td><td>NA</td><td>NA</td><td>NA</td></tr>\n",
              "\t<tr><td>GL</td><td>NA</td><td> 4</td><td>NA</td><td>NA</td><td>NA</td><td>NA</td><td>NA</td><td>NA</td><td>NA</td></tr>\n",
              "\t<tr><td>AH</td><td>NA</td><td> 3</td><td>NA</td><td>NA</td><td>NA</td><td>NA</td><td>NA</td><td>NA</td><td>NA</td></tr>\n",
              "\t<tr><td>SA</td><td>NA</td><td>NA</td><td> 4</td><td>NA</td><td>NA</td><td>NA</td><td>NA</td><td>NA</td><td>NA</td></tr>\n",
              "\t<tr><td>RW</td><td>NA</td><td>NA</td><td> 2</td><td>NA</td><td>NA</td><td>NA</td><td>NA</td><td> 4</td><td>NA</td></tr>\n",
              "\t<tr><td>BA</td><td>NA</td><td>NA</td><td> 4</td><td>NA</td><td>NA</td><td>NA</td><td>NA</td><td>NA</td><td>NA</td></tr>\n",
              "\t<tr><td>MG</td><td>NA</td><td>NA</td><td> 4</td><td>NA</td><td>NA</td><td> 4</td><td>NA</td><td>NA</td><td>NA</td></tr>\n",
              "\t<tr><td>AF</td><td>NA</td><td>NA</td><td> 4</td><td>NA</td><td>NA</td><td>NA</td><td>NA</td><td>NA</td><td>NA</td></tr>\n",
              "\t<tr><td>KG</td><td>NA</td><td>NA</td><td> 3</td><td>NA</td><td>NA</td><td>NA</td><td>NA</td><td>NA</td><td>NA</td></tr>\n",
              "\t<tr><td>DS</td><td> 4</td><td>NA</td><td>NA</td><td> 2</td><td>NA</td><td>NA</td><td> 4</td><td>NA</td><td>NA</td></tr>\n",
              "</tbody>\n",
              "</table>\n"
            ]
          },
          "metadata": {}
        }
      ]
    },
    {
      "cell_type": "code",
      "metadata": {
        "colab": {
          "base_uri": "https://localhost:8080/",
          "height": 589
        },
        "id": "M8rTxSa8SyOG",
        "outputId": "cfc932d1-ecdd-4f57-a75d-6dee099dd639"
      },
      "source": [
        "ratings<-  as.matrix(ratings_id[,-1])\n",
        "ratings"
      ],
      "execution_count": 23,
      "outputs": [
        {
          "output_type": "display_data",
          "data": {
            "text/plain": [
              "      SQL Spatial PA1 DM_IN_R PYTHON FORCAST R_PROG HADOOP REGRESSION\n",
              " [1,]  4  NA      NA  NA       3      2       4     NA      2        \n",
              " [2,]  3   4      NA  NA       4     NA      NA     NA     NA        \n",
              " [3,]  2   2      NA  NA      NA     NA      NA     NA     NA        \n",
              " [4,]  4  NA      NA   4      NA     NA       4     NA      3        \n",
              " [5,]  4   4      NA  NA      NA     NA      NA     NA     NA        \n",
              " [6,] NA   4      NA  NA      NA     NA      NA     NA     NA        \n",
              " [7,] NA   4      NA  NA      NA     NA      NA     NA     NA        \n",
              " [8,] NA   3      NA  NA      NA     NA      NA     NA     NA        \n",
              " [9,] NA  NA       4  NA      NA     NA      NA     NA     NA        \n",
              "[10,] NA  NA       2  NA      NA     NA      NA      4     NA        \n",
              "[11,] NA  NA       4  NA      NA     NA      NA     NA     NA        \n",
              "[12,] NA  NA       4  NA      NA      4      NA     NA     NA        \n",
              "[13,] NA  NA       4  NA      NA     NA      NA     NA     NA        \n",
              "[14,] NA  NA       3  NA      NA     NA      NA     NA     NA        \n",
              "[15,]  4  NA      NA   2      NA     NA       4     NA     NA        "
            ],
            "text/latex": "A matrix: 15 × 9 of type dbl\n\\begin{tabular}{lllllllll}\n SQL & Spatial & PA1 & DM\\_IN\\_R & PYTHON & FORCAST & R\\_PROG & HADOOP & REGRESSION\\\\\n\\hline\n\t  4 & NA & NA & NA &  3 &  2 &  4 & NA &  2\\\\\n\t  3 &  4 & NA & NA &  4 & NA & NA & NA & NA\\\\\n\t  2 &  2 & NA & NA & NA & NA & NA & NA & NA\\\\\n\t  4 & NA & NA &  4 & NA & NA &  4 & NA &  3\\\\\n\t  4 &  4 & NA & NA & NA & NA & NA & NA & NA\\\\\n\t NA &  4 & NA & NA & NA & NA & NA & NA & NA\\\\\n\t NA &  4 & NA & NA & NA & NA & NA & NA & NA\\\\\n\t NA &  3 & NA & NA & NA & NA & NA & NA & NA\\\\\n\t NA & NA &  4 & NA & NA & NA & NA & NA & NA\\\\\n\t NA & NA &  2 & NA & NA & NA & NA &  4 & NA\\\\\n\t NA & NA &  4 & NA & NA & NA & NA & NA & NA\\\\\n\t NA & NA &  4 & NA & NA &  4 & NA & NA & NA\\\\\n\t NA & NA &  4 & NA & NA & NA & NA & NA & NA\\\\\n\t NA & NA &  3 & NA & NA & NA & NA & NA & NA\\\\\n\t  4 & NA & NA &  2 & NA & NA &  4 & NA & NA\\\\\n\\end{tabular}\n",
            "text/markdown": "\nA matrix: 15 × 9 of type dbl\n\n| SQL | Spatial | PA1 | DM_IN_R | PYTHON | FORCAST | R_PROG | HADOOP | REGRESSION |\n|---|---|---|---|---|---|---|---|---|\n|  4 | NA | NA | NA |  3 |  2 |  4 | NA |  2 |\n|  3 |  4 | NA | NA |  4 | NA | NA | NA | NA |\n|  2 |  2 | NA | NA | NA | NA | NA | NA | NA |\n|  4 | NA | NA |  4 | NA | NA |  4 | NA |  3 |\n|  4 |  4 | NA | NA | NA | NA | NA | NA | NA |\n| NA |  4 | NA | NA | NA | NA | NA | NA | NA |\n| NA |  4 | NA | NA | NA | NA | NA | NA | NA |\n| NA |  3 | NA | NA | NA | NA | NA | NA | NA |\n| NA | NA |  4 | NA | NA | NA | NA | NA | NA |\n| NA | NA |  2 | NA | NA | NA | NA |  4 | NA |\n| NA | NA |  4 | NA | NA | NA | NA | NA | NA |\n| NA | NA |  4 | NA | NA |  4 | NA | NA | NA |\n| NA | NA |  4 | NA | NA | NA | NA | NA | NA |\n| NA | NA |  3 | NA | NA | NA | NA | NA | NA |\n|  4 | NA | NA |  2 | NA | NA |  4 | NA | NA |\n\n",
            "text/html": [
              "<table class=\"dataframe\">\n",
              "<caption>A matrix: 15 × 9 of type dbl</caption>\n",
              "<thead>\n",
              "\t<tr><th scope=col>SQL</th><th scope=col>Spatial</th><th scope=col>PA1</th><th scope=col>DM_IN_R</th><th scope=col>PYTHON</th><th scope=col>FORCAST</th><th scope=col>R_PROG</th><th scope=col>HADOOP</th><th scope=col>REGRESSION</th></tr>\n",
              "</thead>\n",
              "<tbody>\n",
              "\t<tr><td> 4</td><td>NA</td><td>NA</td><td>NA</td><td> 3</td><td> 2</td><td> 4</td><td>NA</td><td> 2</td></tr>\n",
              "\t<tr><td> 3</td><td> 4</td><td>NA</td><td>NA</td><td> 4</td><td>NA</td><td>NA</td><td>NA</td><td>NA</td></tr>\n",
              "\t<tr><td> 2</td><td> 2</td><td>NA</td><td>NA</td><td>NA</td><td>NA</td><td>NA</td><td>NA</td><td>NA</td></tr>\n",
              "\t<tr><td> 4</td><td>NA</td><td>NA</td><td> 4</td><td>NA</td><td>NA</td><td> 4</td><td>NA</td><td> 3</td></tr>\n",
              "\t<tr><td> 4</td><td> 4</td><td>NA</td><td>NA</td><td>NA</td><td>NA</td><td>NA</td><td>NA</td><td>NA</td></tr>\n",
              "\t<tr><td>NA</td><td> 4</td><td>NA</td><td>NA</td><td>NA</td><td>NA</td><td>NA</td><td>NA</td><td>NA</td></tr>\n",
              "\t<tr><td>NA</td><td> 4</td><td>NA</td><td>NA</td><td>NA</td><td>NA</td><td>NA</td><td>NA</td><td>NA</td></tr>\n",
              "\t<tr><td>NA</td><td> 3</td><td>NA</td><td>NA</td><td>NA</td><td>NA</td><td>NA</td><td>NA</td><td>NA</td></tr>\n",
              "\t<tr><td>NA</td><td>NA</td><td> 4</td><td>NA</td><td>NA</td><td>NA</td><td>NA</td><td>NA</td><td>NA</td></tr>\n",
              "\t<tr><td>NA</td><td>NA</td><td> 2</td><td>NA</td><td>NA</td><td>NA</td><td>NA</td><td> 4</td><td>NA</td></tr>\n",
              "\t<tr><td>NA</td><td>NA</td><td> 4</td><td>NA</td><td>NA</td><td>NA</td><td>NA</td><td>NA</td><td>NA</td></tr>\n",
              "\t<tr><td>NA</td><td>NA</td><td> 4</td><td>NA</td><td>NA</td><td> 4</td><td>NA</td><td>NA</td><td>NA</td></tr>\n",
              "\t<tr><td>NA</td><td>NA</td><td> 4</td><td>NA</td><td>NA</td><td>NA</td><td>NA</td><td>NA</td><td>NA</td></tr>\n",
              "\t<tr><td>NA</td><td>NA</td><td> 3</td><td>NA</td><td>NA</td><td>NA</td><td>NA</td><td>NA</td><td>NA</td></tr>\n",
              "\t<tr><td> 4</td><td>NA</td><td>NA</td><td> 2</td><td>NA</td><td>NA</td><td> 4</td><td>NA</td><td>NA</td></tr>\n",
              "</tbody>\n",
              "</table>\n"
            ]
          },
          "metadata": {}
        }
      ]
    },
    {
      "cell_type": "code",
      "metadata": {
        "colab": {
          "base_uri": "https://localhost:8080/",
          "height": 38
        },
        "id": "SnzhZplMTQTj",
        "outputId": "a8f748e8-0cec-4133-d0c3-0449b684b07b"
      },
      "source": [
        "#Convert ratings matrix to real rating matrx which makes it dense\n",
        "ratingmat = as(ratings, \"realRatingMatrix\")\n",
        "ratingmat"
      ],
      "execution_count": 24,
      "outputs": [
        {
          "output_type": "display_data",
          "data": {
            "text/plain": [
              "15 x 9 rating matrix of class ‘realRatingMatrix’ with 30 ratings."
            ]
          },
          "metadata": {}
        }
      ]
    },
    {
      "cell_type": "code",
      "metadata": {
        "id": "uuUAGHcyTQRD"
      },
      "source": [
        "#Create Recommender Model. The parameters are UBCF and Cosine similarity\n",
        "#We take 10 nearest neighbours\n",
        "rec_mod = Recommender(ratingmat, method = \"IBCF\", param=list(method=\"Cosine\",nn=9))\n",
        "rec_mod "
      ],
      "execution_count": null,
      "outputs": []
    },
    {
      "cell_type": "code",
      "metadata": {
        "colab": {
          "base_uri": "https://localhost:8080/",
          "height": 36
        },
        "id": "fVXCgIxPWFPM",
        "outputId": "90d6fe09-09ec-4191-ebeb-aa9153e026d8"
      },
      "source": [
        "#Obtain top 1 recommendations for 1st user entry in dataset\n",
        "Top_3_pred = predict(rec_mod, ratingmat[4], n=3)\n",
        "#Convert the recommendations to a list\n",
        "Top_3_List = as(Top_3_pred, \"list\")\n",
        "Top_3_List[[1]]"
      ],
      "execution_count": 26,
      "outputs": [
        {
          "output_type": "display_data",
          "data": {
            "text/plain": [
              "[1] \"FORCAST\" \"Spatial\" \"PYTHON\" "
            ],
            "text/latex": "\\begin{enumerate*}\n\\item 'FORCAST'\n\\item 'Spatial'\n\\item 'PYTHON'\n\\end{enumerate*}\n",
            "text/markdown": "1. 'FORCAST'\n2. 'Spatial'\n3. 'PYTHON'\n\n\n",
            "text/html": [
              "<style>\n",
              ".list-inline {list-style: none; margin:0; padding: 0}\n",
              ".list-inline>li {display: inline-block}\n",
              ".list-inline>li:not(:last-child)::after {content: \"\\00b7\"; padding: 0 .5ex}\n",
              "</style>\n",
              "<ol class=list-inline><li>'FORCAST'</li><li>'Spatial'</li><li>'PYTHON'</li></ol>\n"
            ]
          },
          "metadata": {}
        }
      ]
    },
    {
      "cell_type": "code",
      "metadata": {
        "colab": {
          "base_uri": "https://localhost:8080/",
          "height": 36
        },
        "id": "8dZYRqQGTQOT",
        "outputId": "e2e6a15b-3407-42b7-9ea7-615c5a72274d"
      },
      "source": [
        "#Obtain top 1 recommendations for 1st user entry in dataset\n",
        "Top_1_pred = predict(rec_mod, ratingmat[4], n=1)\n",
        "#Convert the recommendations to a list\n",
        "Top_1_List = as(Top_1_pred, \"list\")\n",
        "Top_1_List[[1]]"
      ],
      "execution_count": 27,
      "outputs": [
        {
          "output_type": "display_data",
          "data": {
            "text/plain": [
              "[1] \"FORCAST\""
            ],
            "text/latex": "'FORCAST'",
            "text/markdown": "'FORCAST'",
            "text/html": [
              "'FORCAST'"
            ]
          },
          "metadata": {}
        }
      ]
    },
    {
      "cell_type": "code",
      "metadata": {
        "id": "AqUtnpSBUf_C"
      },
      "source": [
        "\n"
      ],
      "execution_count": null,
      "outputs": []
    },
    {
      "cell_type": "code",
      "metadata": {
        "id": "pzCqUZTOVXY8"
      },
      "source": [
        ""
      ],
      "execution_count": null,
      "outputs": []
    }
  ]
}